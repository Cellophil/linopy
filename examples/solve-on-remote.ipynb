{
 "cells": [
  {
   "cell_type": "markdown",
   "id": "4db583af",
   "metadata": {},
   "source": [
    "# Solve a model on a remote machine\n",
    "\n",
    "In this example, we explain how linopy can handle model optimization on remote machines. \n",
    "What you need in order to run the example:\n",
    "* a running installation of paramiko on your local machine (use `pip install paramiko` for example)\n",
    "* a remote server with an working installation of linopy, e.g. in a `conda` environment.\n",
    "* a working ssh access to that machine \n",
    "\n",
    "\n",
    "The basic idea that the workflow follows consists of the following steps most of which linopy takes over for you:\n",
    "\n",
    "1. define a model on the local machine\n",
    "2. save the model on the remote machine\n",
    "3. load, solve and write out the model, all on the remote machine\n",
    "4. copy the solved model to the local machine\n",
    "5. load the solved model on the local machine\n",
    "\n",
    "Therefore the initilization process happens locally and the solving remotely. "
   ]
  },
  {
   "cell_type": "markdown",
   "id": "together-ocean",
   "metadata": {},
   "source": [
    "## Create a model\n",
    "\n",
    "First we are going to build the optimization model we want to solve in our local process."
   ]
  },
  {
   "cell_type": "code",
   "execution_count": null,
   "id": "dramatic-cannon",
   "metadata": {},
   "outputs": [],
   "source": [
    "from linopy import Model\n",
    "from numpy import arange\n",
    "\n",
    "N = 10\n",
    "m = Model()\n",
    "coords = [arange(N), arange(N)]\n",
    "x = m.add_variables(coords=coords, name='x')\n",
    "y = m.add_variables(coords=coords, name='y')\n",
    "m.add_constraints(x - y >= arange(N))\n",
    "m.add_constraints(x + y >= 0)\n",
    "m.add_objective((2 * x + y).sum())\n",
    "m"
   ]
  },
  {
   "cell_type": "markdown",
   "id": "0f9e9b09",
   "metadata": {},
   "source": [
    "## Initialize SSH connection\n",
    "\n",
    "Now we have to set up the SSH connection. The SSH connection is handled by the `RemoteHandler` class in of the `linopy.remote` module. This is strongly relying on the `paramiko` package. When initializing, you have two options:\n",
    "\n",
    "1. Pass the standard arguments `host`, `username`. If the SSH keys are stored in a default location, the keys are autodetected and the `RemoteHandler` does not require the `password` argument. Otherwise you also have to pass the password.\n",
    "2. Pass a working `paramiko.SSHClient` as `client`. This enables you to set up the SSH connection by others means supported by `paramiko`. \n",
    "\n",
    "In the following we use the first option."
   ]
  },
  {
   "cell_type": "code",
   "execution_count": null,
   "id": "protecting-power",
   "metadata": {},
   "outputs": [],
   "source": [
    "from linopy import RemoteHandler\n",
    "\n",
    "host = \"your.host.de\"\n",
    "username = \"username\"\n",
    "\n",
    "handler = RemoteHandler(host, username=username)"
   ]
  },
  {
   "cell_type": "markdown",
   "id": "featured-maria",
   "metadata": {},
   "source": [
    "## Optionally: Activate a conda environment on the remote \n",
    "\n",
    "The `RemoteHandler` keeps an interactive shell in the background. You can execute any code in order to prepare the solving process (install linopy, activate an environment). \n",
    "\n",
    "Assuming you have a conda environment `linopy-env` that contains the `linopy` package with dependencies, you can run "
   ]
  },
  {
   "cell_type": "code",
   "execution_count": null,
   "id": "virtual-anxiety",
   "metadata": {},
   "outputs": [],
   "source": [
    "handler.execute(\"conda activate linopy-env\")"
   ]
  },
  {
   "cell_type": "markdown",
   "id": "sonic-rebate",
   "metadata": {},
   "source": [
    "## Solve the model on remote\n",
    "\n",
    "Now the only thing you have to do is to pass the `RemoteHandler` as an argument to the `solve` function. Other keyword arguments like `solver_name` and solver options are propagated to the remote machine. "
   ]
  },
  {
   "cell_type": "code",
   "execution_count": null,
   "id": "ongoing-desktop",
   "metadata": {},
   "outputs": [],
   "source": [
    "m.solve(remote=handler)"
   ]
  },
  {
   "cell_type": "code",
   "execution_count": null,
   "id": "sustained-portrait",
   "metadata": {},
   "outputs": [],
   "source": [
    "m.solution"
   ]
  },
  {
   "cell_type": "code",
   "execution_count": null,
   "id": "b1ab3037",
   "metadata": {},
   "outputs": [],
   "source": []
  }
 ],
 "metadata": {
  "@webio": {
   "lastCommId": null,
   "lastKernelId": null
  },
  "kernelspec": {
   "display_name": "Python 3",
   "language": "python",
   "name": "python3"
  },
  "language_info": {
   "codemirror_mode": {
    "name": "ipython",
    "version": 3
   },
   "file_extension": ".py",
   "mimetype": "text/x-python",
   "name": "python",
   "nbconvert_exporter": "python",
   "pygments_lexer": "ipython3",
   "version": "3.9.10"
  }
 },
 "nbformat": 4,
 "nbformat_minor": 5
}
