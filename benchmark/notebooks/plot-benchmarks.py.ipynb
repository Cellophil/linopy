{
 "cells": [
  {
   "cell_type": "code",
   "execution_count": null,
   "id": "9a85db47",
   "metadata": {},
   "outputs": [],
   "source": [
    "import pandas as pd\n",
    "import seaborn as sns\n",
    "import matplotlib.pyplot as plt\n",
    "import numpy as np\n",
    "sns.set_style('white')"
   ]
  },
  {
   "cell_type": "code",
   "execution_count": null,
   "id": "709bdf49",
   "metadata": {},
   "outputs": [],
   "source": [
    "df = [pd.read_csv(fn, index_col=0) for fn in snakemake.input]\n",
    "df = pd.concat(df, ignore_index=True)\n",
    "\n",
    "df[\"# Variables\"] = df.N ** 2 * 2\n",
    "df['# Constraints'] = df.N ** 2 * 2"
   ]
  },
  {
   "cell_type": "code",
   "execution_count": null,
   "id": "3ec4e41b",
   "metadata": {},
   "outputs": [],
   "source": [
    "fig, ax = plt.subplots()\n",
    "color = ['orange', 'teal', 'green']\n",
    "sns.lineplot(x=\"# Variables\", y='Time [s]', hue='API', \n",
    "             data=df, ax=ax, marker='.', legend='full', palette=color)\n",
    "for i, api in enumerate(df.API.unique()):\n",
    "    d = df.query('API == @api')\n",
    "    ax.fill_between(d['# Variables'], d['Time [s]'], \n",
    "                           color=color[i], alpha=.2) \n",
    "ax.grid(axis='y', linestyle=\"dotted\")\n",
    "ax.legend(framealpha=1)\n",
    "fig.tight_layout()\n",
    "fig.savefig(snakemake.output.time)"
   ]
  },
  {
   "cell_type": "code",
   "execution_count": null,
   "id": "6d8495de",
   "metadata": {},
   "outputs": [],
   "source": [
    "fig, ax = plt.subplots()\n",
    "color = ['orange', 'teal', 'green']\n",
    "sns.lineplot(x=\"# Variables\", y='Memory Usage', hue='API', \n",
    "             data=df, ax=ax, marker='.', legend='full', palette=color)\n",
    "for i, api in enumerate(df.API.unique()):\n",
    "    d = df.query('API == @api')\n",
    "    ax.fill_between(d['# Variables'], d['Memory Usage'], \n",
    "                           color=color[i], alpha=.2) \n",
    "ax.grid(axis='y', linestyle=\"dotted\")\n",
    "ax.legend(framealpha=1)\n",
    "fig.tight_layout()\n",
    "fig.savefig(snakemake.output.memory)"
   ]
  }
 ],
 "metadata": {
  "kernelspec": {
   "display_name": "Python 3",
   "language": "python",
   "name": "python3"
  },
  "language_info": {
   "codemirror_mode": {
    "name": "ipython",
    "version": 3
   },
   "file_extension": ".py",
   "mimetype": "text/x-python",
   "name": "python",
   "nbconvert_exporter": "python",
   "pygments_lexer": "ipython3",
   "version": "3.9.9"
  }
 },
 "nbformat": 4,
 "nbformat_minor": 5
}
