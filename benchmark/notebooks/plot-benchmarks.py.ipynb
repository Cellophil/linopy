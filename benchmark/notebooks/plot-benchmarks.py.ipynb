{
 "cells": [
  {
   "cell_type": "code",
   "execution_count": null,
   "id": "9a85db47",
   "metadata": {},
   "outputs": [],
   "source": [
    "import pandas as pd\n",
    "import seaborn as sns\n",
    "import matplotlib.pyplot as plt\n",
    "import numpy as np\n",
    "sns.set_style('white', )\n",
    "plt.rc('text', usetex=True)\n",
    "plt.rc('font', family='sans-serif')"
   ]
  },
  {
   "cell_type": "code",
   "execution_count": null,
   "id": "709bdf49",
   "metadata": {},
   "outputs": [],
   "source": [
    "df = [pd.read_csv(fn, index_col=0) for fn in snakemake.input]\n",
    "df = pd.concat(df, ignore_index=True)\n",
    "\n",
    "df[\"Number of Variables\"] = df.N ** 2 * 2\n",
    "df['Number of Constraints'] = df.N ** 2 * 2"
   ]
  },
  {
   "cell_type": "code",
   "execution_count": null,
   "id": "3ec4e41b",
   "metadata": {},
   "outputs": [],
   "source": [
    "fig, ax = plt.subplots()\n",
    "color = ['orange', 'teal', 'green']\n",
    "sns.lineplot(x=\"Number of Variables\", y='Time [s]', hue='API', \n",
    "             data=df, ax=ax, marker='.', legend='full', palette=color)\n",
    "for i, api in enumerate(df.API.unique()):\n",
    "    d = df.query('API == @api')\n",
    "    ax.fill_between(d['Number of Variables'], d['Time [s]'], \n",
    "                           color=color[i], alpha=.2) \n",
    "ax.grid(axis='y', linestyle=\"dotted\")\n",
    "ax.ticklabel_format(style='sci', scilimits=(-3, 3), useMathText=True)\n",
    "ax.legend(framealpha=1)\n",
    "ax.spines[['top', 'right']].set_visible(False)\n",
    "fig.tight_layout()\n",
    "fig.savefig(snakemake.output.time)"
   ]
  },
  {
   "cell_type": "code",
   "execution_count": null,
   "id": "6d8495de",
   "metadata": {},
   "outputs": [],
   "source": [
    "fig, ax = plt.subplots()\n",
    "color = ['orange', 'teal', 'green']\n",
    "sns.lineplot(x=\"Number of Variables\", y='Memory Usage', hue='API', \n",
    "             data=df, ax=ax, marker='.', legend='full', palette=color)\n",
    "for i, api in enumerate(df.API.unique()):\n",
    "    d = df.query('API == @api')\n",
    "    ax.fill_between(d['Number of Variables'], d['Memory Usage'], \n",
    "                           color=color[i], alpha=.2) \n",
    "ax.grid(axis='y', linestyle=\"dotted\")\n",
    "ax.set_ylabel('Memory Usage [MB]')\n",
    "ax.ticklabel_format(style='sci', scilimits=(-3, 3), useMathText=True)\n",
    "ax.legend(framealpha=1)\n",
    "ax.spines[['top', 'right']].set_visible(False)\n",
    "fig.tight_layout()\n",
    "fig.savefig(snakemake.output.memory)"
   ]
  },
  {
   "cell_type": "code",
   "execution_count": null,
   "id": "4ef5622e",
   "metadata": {},
   "outputs": [],
   "source": [
    "df"
   ]
  },
  {
   "cell_type": "code",
   "execution_count": null,
   "id": "09bf128f",
   "metadata": {},
   "outputs": [],
   "source": []
  }
 ],
 "metadata": {
  "kernelspec": {
   "display_name": "Python 3",
   "language": "python",
   "name": "python3"
  },
  "language_info": {
   "codemirror_mode": {
    "name": "ipython",
    "version": 3
   },
   "file_extension": ".py",
   "mimetype": "text/x-python",
   "name": "python",
   "nbconvert_exporter": "python",
   "pygments_lexer": "ipython3",
   "version": "3.9.9"
  }
 },
 "nbformat": 4,
 "nbformat_minor": 5
}
